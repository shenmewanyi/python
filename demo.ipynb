{
  "cells": [
    {
      "metadata": {
        "id": "pY8iWjayaC22",
        "colab_type": "text"
      },
      "cell_type": "markdown",
      "source": "<a href=\"\"><img src=\"\" width=\"100\" align=\"left\" hspace=\"20px\" vspace=\"20px\"></a>\n\n<img src=\"\" width=\"250\" vspace=\"30px\" align=\"right\">\n\n<div align=\"left\">\n<h1>Introduction to Python</h1>\n\nIn this lesson we'll learn the basics of the Python programming language. We won't learn everything but enough of a foundation for basic machine learning. We'll continue to learn more in future lessons!\n</div>"
    },
    {
      "metadata": {
        "id": "gN-UI0ZUd0Xt",
        "colab_type": "text"
      },
      "cell_type": "markdown",
      "source": "<table align=\"center\">\n  <td>\n<img src=\"\" width=\"25\"><a target=\"_blank\" href=\"https://practicalai.me\"> View on practicalAI</a>\n  </td>\n  <td>\n<img src=\"\" width=\"25\"><a target=\"_blank\" href=\"\"> Run in Google Colab</a>\n  </td>\n  <td>\n<img src=\"\" width=\"22\"><a target=\"_blank\" href=\"\"> View code on GitHub</a>\n  </td>\n</table>"
    },
    {
      "metadata": {
        "id": "VoMq0eFRvugb",
        "colab_type": "text"
      },
      "cell_type": "markdown",
      "source": "#  Variables"
    },
    {
      "metadata": {
        "id": "qWro5T5qTJJL",
        "colab_type": "text"
      },
      "cell_type": "markdown",
      "source": "Variables are containers for holding data and they're defined by a name and value.\n\n<div align=\"left\">\n<img src=\"\" width=\"220\">\n</div>"
    },
    {
      "metadata": {
        "id": "0-dXQiLlTIgz",
        "colab_type": "code",
        "outputId": "cb8b0ac9-732d-42c6-b25a-1d19a6491b0d",
        "colab": {
          "base_uri": "https://localhost:8080/",
          "height": 51
        },
        "trusted": true
      },
      "cell_type": "code",
      "source": "# Integer variable\nx = 5\nprint (x)\nprint (type(x))\n",
      "execution_count": 1,
      "outputs": [
        {
          "output_type": "stream",
          "text": "5\n<class 'int'>\n",
          "name": "stdout"
        }
      ]
    },
    {
      "metadata": {
        "id": "LDAdgPSCyMbN",
        "colab_type": "text"
      },
      "cell_type": "markdown",
      "source": "We can change the value of a variable by simply assigning a new value to it."
    },
    {
      "metadata": {
        "id": "5Ym0owFxTkjo",
        "colab_type": "code",
        "outputId": "133505a8-736d-448c-eea2-956affb6e1d3",
        "colab": {
          "base_uri": "https://localhost:8080/",
          "height": 51
        },
        "trusted": true
      },
      "cell_type": "code",
      "source": "# String variable\nx = \"hello\"\nprint (x)\nprint (type(x))",
      "execution_count": 2,
      "outputs": [
        {
          "output_type": "stream",
          "text": "hello\n<class 'str'>\n",
          "name": "stdout"
        }
      ]
    },
    {
      "metadata": {
        "colab_type": "text",
        "id": "Lsq_c_AhEzZN"
      },
      "cell_type": "markdown",
      "source": "There are many different types of variables: integers, floats, strings, boolean etc."
    },
    {
      "metadata": {
        "colab_type": "code",
        "outputId": "af0e4d3f-71ef-439b-cad9-110b2483ddd3",
        "id": "m4kAmbD9EzHz",
        "colab": {
          "base_uri": "https://localhost:8080/",
          "height": 34
        },
        "trusted": true
      },
      "cell_type": "code",
      "source": "# int variable\nx = 5\nprint (x, type(x))",
      "execution_count": 3,
      "outputs": [
        {
          "output_type": "stream",
          "text": "5 <class 'int'>\n",
          "name": "stdout"
        }
      ]
    },
    {
      "metadata": {
        "colab_type": "code",
        "outputId": "a7546aed-9c27-45bc-eb00-d338dce1b429",
        "id": "gb9BzIoOEy6A",
        "colab": {
          "base_uri": "https://localhost:8080/",
          "height": 34
        },
        "trusted": true
      },
      "cell_type": "code",
      "source": "# float variable\nx = 5.0\nprint (x, type(x))",
      "execution_count": 4,
      "outputs": [
        {
          "output_type": "stream",
          "text": "5.0 <class 'float'>\n",
          "name": "stdout"
        }
      ]
    },
    {
      "metadata": {
        "colab_type": "code",
        "outputId": "c0d69113-7ec2-478b-8bde-60cb095003a4",
        "id": "RkqP-eraEytN",
        "colab": {
          "base_uri": "https://localhost:8080/",
          "height": 34
        },
        "trusted": true
      },
      "cell_type": "code",
      "source": "# text variable\nx = \"5\" \nprint (x, type(x))",
      "execution_count": 5,
      "outputs": [
        {
          "output_type": "stream",
          "text": "5 <class 'str'>\n",
          "name": "stdout"
        }
      ]
    },
    {
      "metadata": {
        "colab_type": "code",
        "outputId": "272c20db-dde5-4ac1-bfe3-c2cbfd0d22bc",
        "id": "ws4HSsJpEyfL",
        "colab": {
          "base_uri": "https://localhost:8080/",
          "height": 34
        },
        "trusted": true
      },
      "cell_type": "code",
      "source": "# boolean variable\nx = True\nprint (x, type(x))",
      "execution_count": 6,
      "outputs": [
        {
          "output_type": "stream",
          "text": "True <class 'bool'>\n",
          "name": "stdout"
        }
      ]
    },
    {
      "metadata": {
        "id": "EWOmrbiDybhF",
        "colab_type": "text"
      },
      "cell_type": "markdown",
      "source": "We can also do operations with variables."
    },
    {
      "metadata": {
        "id": "1a4ZhMV1T1-0",
        "colab_type": "code",
        "outputId": "23827456-ea51-4cc8-cd0b-dc775b45f056",
        "colab": {
          "base_uri": "https://localhost:8080/",
          "height": 34
        },
        "trusted": true
      },
      "cell_type": "code",
      "source": "# Variables can be used with each other\na = 1\nb = 2\nc = a + b\nprint (c)",
      "execution_count": 7,
      "outputs": [
        {
          "output_type": "stream",
          "text": "3\n",
          "name": "stdout"
        }
      ]
    },
    {
      "metadata": {
        "id": "6HPtavfdU8Ut",
        "colab_type": "text"
      },
      "cell_type": "markdown",
      "source": "We should always know what types of variables we're dealing with so we can do the right operations with them. Here's a common mistake that can happen if we're using the wrong variable type."
    },
    {
      "metadata": {
        "id": "8pr1-i7IVD-h",
        "colab_type": "code",
        "outputId": "701184d4-832f-4b74-926b-75e602157112",
        "colab": {
          "base_uri": "https://localhost:8080/",
          "height": 34
        },
        "trusted": true
      },
      "cell_type": "code",
      "source": "# int variables\na = 5\nb = 3\nprint (a + b)",
      "execution_count": 8,
      "outputs": [
        {
          "output_type": "stream",
          "text": "8\n",
          "name": "stdout"
        }
      ]
    },
    {
      "metadata": {
        "id": "A9u0Mtke5xkk",
        "colab_type": "code",
        "outputId": "a3c5ab1b-85bb-4d70-ec2d-7fc2d212fc67",
        "colab": {
          "base_uri": "https://localhost:8080/",
          "height": 34
        },
        "trusted": true
      },
      "cell_type": "code",
      "source": "# string variables\na = \"5\"\nb = \"3\"\nprint (a + b)",
      "execution_count": 9,
      "outputs": [
        {
          "output_type": "stream",
          "text": "53\n",
          "name": "stdout"
        }
      ]
    },
    {
      "metadata": {
        "id": "q4R_UF6PVw4V",
        "colab_type": "text"
      },
      "cell_type": "markdown",
      "source": "#  Lists"
    },
    {
      "metadata": {
        "id": "LvGsQBj4VjMl",
        "colab_type": "text"
      },
      "cell_type": "markdown",
      "source": "Lists are an ordered, mutable (changeable) collection of values that are *comma separated* and enclosed by *square brackets*. A list can be comprised of many different types of variables (below is a list with an integer, string and a float).\n\n<div align=\"left\">\n<img src=\"\" width=\"300\">\n</div>"
    },
    {
      "metadata": {
        "id": "9iPESkq9VvlX",
        "colab_type": "code",
        "outputId": "8122174a-c4e5-4300-9a60-6a7b17f730af",
        "colab": {
          "base_uri": "https://localhost:8080/",
          "height": 34
        },
        "trusted": true
      },
      "cell_type": "code",
      "source": "# Creating a list\nx = [3, \"hello\", 1.2]\nprint (x)",
      "execution_count": 10,
      "outputs": [
        {
          "output_type": "stream",
          "text": "[3, 'hello', 1.2]\n",
          "name": "stdout"
        }
      ]
    },
    {
      "metadata": {
        "id": "esDwOfutKtBf",
        "colab_type": "code",
        "outputId": "bfcc6f34-1831-4c39-e58b-4100058030df",
        "colab": {
          "base_uri": "https://localhost:8080/",
          "height": 34
        },
        "trusted": true
      },
      "cell_type": "code",
      "source": "# Length of a list\nlen(x)",
      "execution_count": 11,
      "outputs": [
        {
          "output_type": "execute_result",
          "data": {
            "text/plain": "3"
          },
          "metadata": {
            "tags": []
          },
          "execution_count": 11
        }
      ]
    },
    {
      "metadata": {
        "id": "0xC6WvuwbGDg",
        "colab_type": "text"
      },
      "cell_type": "markdown",
      "source": "You can add to a list by using the **append** function."
    },
    {
      "metadata": {
        "id": "7lbajc-zV515",
        "colab_type": "code",
        "outputId": "e333dff5-1aa6-42c6-b9d0-5e7721afdfb9",
        "colab": {
          "base_uri": "https://localhost:8080/",
          "height": 51
        },
        "trusted": true
      },
      "cell_type": "code",
      "source": "# Adding to a list\nx.append(7)\nprint (x)\nprint (len(x))",
      "execution_count": 12,
      "outputs": [
        {
          "output_type": "stream",
          "text": "[3, 'hello', 1.2, 7]\n4\n",
          "name": "stdout"
        }
      ]
    },
    {
      "metadata": {
        "id": "TjVjmiSIK1YA",
        "colab_type": "code",
        "outputId": "1493a45c-97b5-457e-f27d-f4886c8e905f",
        "colab": {
          "base_uri": "https://localhost:8080/",
          "height": 34
        },
        "trusted": true
      },
      "cell_type": "code",
      "source": "# Replacing items in a list\nx[1] = \"bye\"\nprint (x)",
      "execution_count": 13,
      "outputs": [
        {
          "output_type": "stream",
          "text": "[3, 'bye', 1.2, 7]\n",
          "name": "stdout"
        }
      ]
    },
    {
      "metadata": {
        "id": "tNLaysG6K6E9",
        "colab_type": "code",
        "outputId": "dc3e6c4c-3157-475c-f72a-244a5a3f5af3",
        "colab": {
          "base_uri": "https://localhost:8080/",
          "height": 34
        },
        "trusted": true
      },
      "cell_type": "code",
      "source": "# Operations\ny = [2.4, \"world\"]\nz = x + y\nprint (z)",
      "execution_count": 14,
      "outputs": [
        {
          "output_type": "stream",
          "text": "[3, 'bye', 1.2, 7, 2.4, 'world']\n",
          "name": "stdout"
        }
      ]
    },
    {
      "metadata": {
        "id": "M7mQpE7dtpX6",
        "colab_type": "text"
      },
      "cell_type": "markdown",
      "source": "### Indexing and Slicing"
    },
    {
      "metadata": {
        "id": "wJqJM2Q13TwE",
        "colab_type": "text"
      },
      "cell_type": "markdown",
      "source": "Indexing and slicing from lists allow us to retrieve specific values within lists. Note that indices can be positive (starting from 0) or negative (-1 and lower, where -1 is the last item in the list).\n\n<div align=\"left\">\n<img src=\"\" width=\"300\">\n</div>"
    },
    {
      "metadata": {
        "id": "W0xpIryJWCN9",
        "colab_type": "code",
        "outputId": "f8554972-3a09-48ab-a914-31738f1b9d75",
        "colab": {
          "base_uri": "https://localhost:8080/",
          "height": 85
        },
        "trusted": true
      },
      "cell_type": "code",
      "source": "# Indexing\nx = [3, \"hello\", 1.2]\nprint (\"x[0]: \", x[0])\nprint (\"x[1]: \", x[1])\nprint (\"x[-1]: \", x[-1]) # the last item\nprint (\"x[-2]: \", x[-2]) # the second to last item",
      "execution_count": 15,
      "outputs": [
        {
          "output_type": "stream",
          "text": "x[0]:  3\nx[1]:  hello\nx[-1]:  1.2\nx[-2]:  hello\n",
          "name": "stdout"
        }
      ]
    },
    {
      "metadata": {
        "id": "VSu_HNrnc1WK",
        "colab_type": "code",
        "outputId": "c770323c-a6c5-4e1e-8b29-2a6022b72adf",
        "colab": {
          "base_uri": "https://localhost:8080/",
          "height": 85
        },
        "trusted": true
      },
      "cell_type": "code",
      "source": "# Slicing\nprint (\"x[:]: \", x[:]) # all indices\nprint (\"x[1:]: \", x[1:]) # index 1 to the end of the list\nprint (\"x[1:2]: \", x[1:2]) # index 1 to index 2 (not including index 2)\nprint (\"x[:-1]: \", x[:-1]) # index 0 to last index (not including last index)",
      "execution_count": 16,
      "outputs": [
        {
          "output_type": "stream",
          "text": "x[:]:  [3, 'hello', 1.2]\nx[1:]:  ['hello', 1.2]\nx[1:2]:  ['hello']\nx[:-1]:  [3, 'hello']\n",
          "name": "stdout"
        }
      ]
    },
    {
      "metadata": {
        "id": "ddpIO6LLVzh0",
        "colab_type": "text"
      },
      "cell_type": "markdown",
      "source": "# Tuples"
    },
    {
      "metadata": {
        "id": "CAZblq7oXY3s",
        "colab_type": "text"
      },
      "cell_type": "markdown",
      "source": "Tuples are collections that are ordered and immutable (unchangeable). You will use these to store values that will never be changed."
    },
    {
      "metadata": {
        "id": "G95lu8xWXY90",
        "colab_type": "code",
        "outputId": "86de1c02-a321-49db-9ec0-996b3147bfeb",
        "colab": {
          "base_uri": "https://localhost:8080/",
          "height": 34
        },
        "trusted": true
      },
      "cell_type": "code",
      "source": "# Creating a tuple\nx = (3.0, \"hello\") # tuples start and end with ()\nprint (x)",
      "execution_count": 17,
      "outputs": [
        {
          "output_type": "stream",
          "text": "(3.0, 'hello')\n",
          "name": "stdout"
        }
      ]
    },
    {
      "metadata": {
        "id": "kq23Bej1acAP",
        "colab_type": "code",
        "outputId": "1f8b22a6-c8a4-4333-d7a8-6799b8a07d0f",
        "colab": {
          "base_uri": "https://localhost:8080/",
          "height": 34
        },
        "trusted": true
      },
      "cell_type": "code",
      "source": "# Adding values to a tuple\nx = x + (5.6, 4)\nprint (x)",
      "execution_count": 18,
      "outputs": [
        {
          "output_type": "stream",
          "text": "(3.0, 'hello', 5.6, 4)\n",
          "name": "stdout"
        }
      ]
    },
    {
      "metadata": {
        "id": "-o-tW98FLffc",
        "colab_type": "code",
        "outputId": "07676b4d-3b2a-4add-bb5a-e93e4a1cd6cb",
        "colab": {
          "base_uri": "https://localhost:8080/",
          "height": 164
        },
        "trusted": true
      },
      "cell_type": "code",
      "source": "# Try to change (it won't work and you'll get an error)\nx[0] = 1.2",
      "execution_count": 19,
      "outputs": [
        {
          "output_type": "error",
          "ename": "TypeError",
          "evalue": "ignored",
          "traceback": [
            "\u001b[0;31m---------------------------------------------------------------------------\u001b[0m",
            "\u001b[0;31mTypeError\u001b[0m                                 Traceback (most recent call last)",
            "\u001b[0;32m<ipython-input-19-d0da6f639f74>\u001b[0m in \u001b[0;36m<module>\u001b[0;34m()\u001b[0m\n\u001b[0;32m----> 1\u001b[0;31m \u001b[0mx\u001b[0m\u001b[0;34m[\u001b[0m\u001b[0;36m0\u001b[0m\u001b[0;34m]\u001b[0m \u001b[0;34m=\u001b[0m \u001b[0;36m1.2\u001b[0m\u001b[0;34m\u001b[0m\u001b[0;34m\u001b[0m\u001b[0m\n\u001b[0m",
            "\u001b[0;31mTypeError\u001b[0m: 'tuple' object does not support item assignment"
          ]
        }
      ]
    },
    {
      "metadata": {
        "id": "UdlJHkwZV3Mz",
        "colab_type": "text"
      },
      "cell_type": "markdown",
      "source": "# Dictionaries"
    },
    {
      "metadata": {
        "id": "azp3AoxYXS26",
        "colab_type": "text"
      },
      "cell_type": "markdown",
      "source": "Dictionaries are an unordered, mutable and indexed collection of key-value pairs. You can retrieve values based on the key and a dictionary cannot have two of the same keys. \n\n<div align=\"left\">\n<img src=\"\" width=\"320\">\n</div>"
    },
    {
      "metadata": {
        "id": "pXhNLbzpXXSk",
        "colab_type": "code",
        "outputId": "019fc49c-a860-4ea8-a422-70f192dc5cf3",
        "colab": {
          "base_uri": "https://localhost:8080/",
          "height": 68
        },
        "trusted": true
      },
      "cell_type": "code",
      "source": "# Creating a dictionary\nperson = {'name': 'Goku',\n          'eye_color': 'brown'}\nprint (person)\nprint (person['name'])\nprint (person['eye_color'])",
      "execution_count": 20,
      "outputs": [
        {
          "output_type": "stream",
          "text": "{'name': 'Goku', 'eye_color': 'brown'}\nGoku\nbrown\n",
          "name": "stdout"
        }
      ]
    },
    {
      "metadata": {
        "id": "1HXtX8vQYjXa",
        "colab_type": "code",
        "outputId": "43ee2427-921c-48b3-df32-6c4829454f6f",
        "colab": {
          "base_uri": "https://localhost:8080/",
          "height": 34
        },
        "trusted": true
      },
      "cell_type": "code",
      "source": "# Changing the value for a key\nperson['eye_color'] = 'green'\nprint (person)",
      "execution_count": 21,
      "outputs": [
        {
          "output_type": "stream",
          "text": "{'name': 'Goku', 'eye_color': 'green'}\n",
          "name": "stdout"
        }
      ]
    },
    {
      "metadata": {
        "id": "qn33iB0MY5dT",
        "colab_type": "code",
        "outputId": "785b4e29-4b5b-4118-92e3-943a8ee05a69",
        "colab": {
          "base_uri": "https://localhost:8080/",
          "height": 34
        },
        "trusted": true
      },
      "cell_type": "code",
      "source": "# Adding new key-value pairs\nperson['age'] = 24\nprint (person)",
      "execution_count": 22,
      "outputs": [
        {
          "output_type": "stream",
          "text": "{'name': 'Goku', 'eye_color': 'green', 'age': 24}\n",
          "name": "stdout"
        }
      ]
    },
    {
      "metadata": {
        "id": "g9EYmzMKa9YV",
        "colab_type": "code",
        "outputId": "0ee2519e-df9a-4609-8f6d-ea974a706b99",
        "colab": {
          "base_uri": "https://localhost:8080/",
          "height": 34
        },
        "trusted": true
      },
      "cell_type": "code",
      "source": "# Length of a dictionary\nprint (len(person))",
      "execution_count": 23,
      "outputs": [
        {
          "output_type": "stream",
          "text": "3\n",
          "name": "stdout"
        }
      ]
    },
    {
      "metadata": {
        "id": "B-DInx_Xo2vJ",
        "colab_type": "text"
      },
      "cell_type": "markdown",
      "source": "# If statements"
    },
    {
      "metadata": {
        "id": "ZG_ICGRGo4tY",
        "colab_type": "text"
      },
      "cell_type": "markdown",
      "source": "We can use `if` statements to conditionally do something. The conditions are defined by the words `if`, `elif` (which stands for else if) and `else`. We can have as many `elif` statements as we want. The indented code below each condition is the code that will execute if the condition is `True`.\n\n<div align=\"left\">\n<img src=\"\" width=\"600\">\n</div>"
    },
    {
      "metadata": {
        "id": "uob9lQuKo4Pg",
        "colab_type": "code",
        "outputId": "a8488494-9a69-44c1-cc11-3a4e97192067",
        "colab": {
          "base_uri": "https://localhost:8080/",
          "height": 34
        },
        "trusted": true
      },
      "cell_type": "code",
      "source": "# If statement\nx = 4\nif x < 1:\n    score = 'low'\nelif x <= 4: # elif = else if\n    score = 'medium'\nelse:\n    score = 'high'\nprint (score)",
      "execution_count": 24,
      "outputs": [
        {
          "output_type": "stream",
          "text": "medium\n",
          "name": "stdout"
        }
      ]
    },
    {
      "metadata": {
        "id": "vwsQaZqIpfJ3",
        "colab_type": "code",
        "outputId": "9299cbff-634b-4428-975f-90aa60a695ad",
        "colab": {
          "base_uri": "https://localhost:8080/",
          "height": 34
        },
        "trusted": true
      },
      "cell_type": "code",
      "source": "# If statment with a boolean\nx = True\nif x:\n    print (\"it worked\")",
      "execution_count": 25,
      "outputs": [
        {
          "output_type": "stream",
          "text": "it worked\n",
          "name": "stdout"
        }
      ]
    },
    {
      "metadata": {
        "id": "sJ7NPGEKV6Ik",
        "colab_type": "text"
      },
      "cell_type": "markdown",
      "source": "# Loops"
    },
    {
      "metadata": {
        "id": "cRgqRyfITuEC",
        "colab_type": "text"
      },
      "cell_type": "markdown",
      "source": "### For Loops"
    },
    {
      "metadata": {
        "id": "YRVxhVCkn0vc",
        "colab_type": "text"
      },
      "cell_type": "markdown",
      "source": "A `for` loop can iterate over a collection of values (lists, tuples, dictionaries, etc.) The indented code is executed for each item in the collection of values."
    },
    {
      "metadata": {
        "id": "OB5PtyqAn8mj",
        "colab_type": "code",
        "outputId": "79e74034-3054-42f7-cba4-9ca900cdd9f3",
        "colab": {
          "base_uri": "https://localhost:8080/",
          "height": 68
        },
        "trusted": true
      },
      "cell_type": "code",
      "source": "# For loop\nveggies = [\"carrots\", \"broccoli\", \"beans\"]\nfor veggie in veggies:\n    print (veggie)",
      "execution_count": 26,
      "outputs": [
        {
          "output_type": "stream",
          "text": "carrots\nbroccoli\nbeans\n",
          "name": "stdout"
        }
      ]
    },
    {
      "metadata": {
        "id": "PQc56LtEDuX2",
        "colab_type": "text"
      },
      "cell_type": "markdown",
      "source": "When the loop encounters the `break` command, the loop will terminate immediately. If there were more items in the list, they will not be processed."
    },
    {
      "metadata": {
        "id": "6XyhCrFeoGj4",
        "colab_type": "code",
        "outputId": "9c9a54bd-de03-4729-9ad7-8297819035ed",
        "colab": {
          "base_uri": "https://localhost:8080/",
          "height": 34
        },
        "trusted": true
      },
      "cell_type": "code",
      "source": "# `break` from a for loop\nveggies = [\"carrots\", \"broccoli\", \"beans\"]\nfor veggie in veggies:\n    if veggie == \"broccoli\":\n        break\n    print (veggie)",
      "execution_count": 27,
      "outputs": [
        {
          "output_type": "stream",
          "text": "carrots\n",
          "name": "stdout"
        }
      ]
    },
    {
      "metadata": {
        "id": "O_0-vSSuEAqU",
        "colab_type": "text"
      },
      "cell_type": "markdown",
      "source": "When the loop encounters the `continue` command, the loop will skip all other operations for that item in the list only. If there were more items in the list, the loop will continue normally."
    },
    {
      "metadata": {
        "id": "KJvlfYs8QbQZ",
        "colab_type": "code",
        "outputId": "cf15bfb7-5aa6-4862-c8c5-b9fffda1a1e9",
        "colab": {
          "base_uri": "https://localhost:8080/",
          "height": 51
        },
        "trusted": true
      },
      "cell_type": "code",
      "source": "# `continue` to the next iteration\nveggies = [\"carrots\", \"broccoli\", \"beans\"]\nfor veggie in veggies:\n    if veggie == \"broccoli\":\n        continue\n    print (veggie)",
      "execution_count": 28,
      "outputs": [
        {
          "output_type": "stream",
          "text": "carrots\nbeans\n",
          "name": "stdout"
        }
      ]
    },
    {
      "metadata": {
        "id": "VAbnASi2TwZ9",
        "colab_type": "text"
      },
      "cell_type": "markdown",
      "source": "### While Loops"
    },
    {
      "metadata": {
        "id": "nuHAyQdr_jUa",
        "colab_type": "text"
      },
      "cell_type": "markdown",
      "source": "A `while` loop can perform repeatedly as long as a condition is `True`. We can use `continue` and `break` commands in `while` loops as well."
    },
    {
      "metadata": {
        "id": "5Tf2x4okp3fH",
        "colab_type": "code",
        "outputId": "5a318e42-b5a1-439d-eb8a-b3f1d596413e",
        "colab": {
          "base_uri": "https://localhost:8080/",
          "height": 68
        },
        "trusted": true
      },
      "cell_type": "code",
      "source": "# While loop\nx = 3\nwhile x > 0:\n    x -= 1 # same as x = x - 1\n    print (x)",
      "execution_count": 29,
      "outputs": [
        {
          "output_type": "stream",
          "text": "2\n1\n0\n",
          "name": "stdout"
        }
      ]
    },
    {
      "metadata": {
        "id": "gJw-EDO9WBL_",
        "colab_type": "text"
      },
      "cell_type": "markdown",
      "source": "# Functions"
    },
    {
      "metadata": {
        "id": "hDIOUdWCqBwa",
        "colab_type": "text"
      },
      "cell_type": "markdown",
      "source": "Functions are a way to modularize reusable pieces of code. They're defined by the keyword `def` which stands for definition and they can have the following components.\n\n<div align=\"left\">\n<img src=\"\" width=\"350\">\n</div>"
    },
    {
      "metadata": {
        "id": "iin1ZXmMqA0y",
        "colab_type": "code",
        "colab": {},
        "trusted": true
      },
      "cell_type": "code",
      "source": "# Define the function\ndef add_two(x):\n    \"\"\"Increase x by 2.\"\"\" # explains what this function will do\n    x += 2\n    return x",
      "execution_count": 0,
      "outputs": []
    },
    {
      "metadata": {
        "id": "OIf2dJ8RGj8l",
        "colab_type": "text"
      },
      "cell_type": "markdown",
      "source": "Here are the components that may be required when we want to use the function. we need to ensure that the function name and the input parameters match with how we defined the function above.\n\n<div align=\"left\">\n<img src=\"\" width=\"350\">\n</div>"
    },
    {
      "metadata": {
        "id": "4ye1A5FobAUd",
        "colab_type": "code",
        "outputId": "00301223-a83c-41b6-e8cf-22f1f76864c5",
        "colab": {
          "base_uri": "https://localhost:8080/",
          "height": 34
        },
        "trusted": true
      },
      "cell_type": "code",
      "source": "# Use the function\nscore = 0\nnew_score = add_two(x=score)\nprint (new_score)",
      "execution_count": 31,
      "outputs": [
        {
          "output_type": "stream",
          "text": "2\n",
          "name": "stdout"
        }
      ]
    },
    {
      "metadata": {
        "id": "5kpEiTUZqMax",
        "colab_type": "text"
      },
      "cell_type": "markdown",
      "source": "A function can have as many input parameters and outputs as we want."
    },
    {
      "metadata": {
        "id": "DC6x3DMrqlE3",
        "colab_type": "code",
        "colab": {},
        "trusted": true
      },
      "cell_type": "code",
      "source": "# Function with multiple inputs\ndef join_name(first_name, last_name):\n    \"\"\"Combine first name and last name.\"\"\"\n    joined_name = first_name + \" \" + last_name\n    return joined_name",
      "execution_count": 0,
      "outputs": []
    },
    {
      "metadata": {
        "id": "ehc8bNoGbBt8",
        "colab_type": "code",
        "outputId": "1e79ba6a-f897-4f70-ead2-d424d8354126",
        "colab": {
          "base_uri": "https://localhost:8080/",
          "height": 34
        },
        "trusted": true
      },
      "cell_type": "code",
      "source": "# Use the function\nfirst_name = \"Goku\"\nlast_name = \"Mohandas\"\njoined_name = join_name(first_name=first_name, \n                        last_name=last_name)\nprint (joined_name)",
      "execution_count": 33,
      "outputs": [
        {
          "output_type": "stream",
          "text": "Goku Mohandas\n",
          "name": "stdout"
        }
      ]
    },
    {
      "metadata": {
        "id": "x3_7Qv91Gjua",
        "colab_type": "text"
      },
      "cell_type": "markdown",
      "source": "<div align=\"left\">\n<img src=\"https://raw.githubusercontent.com/practicalAI/images/master/images/lightbulb.gif\" width=\"45px\" align=\"left\" hspace=\"10px\">\n</div>\n\nIt's good practice to always use keyword argument when using a function so that it's very clear what input variable belongs to what function input parameter. On a related note, you will often see the terms ***args** and ****kwargs** which stand for arguments and keyword arguments. You can extract them when they are passed into a function. The significance of the * is that any number of arguments and keyword arguments can be passed into the function."
    },
    {
      "metadata": {
        "id": "XHhaCfFaHSVo",
        "colab_type": "code",
        "colab": {},
        "trusted": true
      },
      "cell_type": "code",
      "source": "def f(*args, **kwargs):\n    x = args[0]\n    y = kwargs.get('y')\n    print (f\"x: {x}, y: {y}\")",
      "execution_count": 0,
      "outputs": []
    },
    {
      "metadata": {
        "id": "ZRB9msy0HmR_",
        "colab_type": "code",
        "outputId": "b5ed646f-0644-4ff0-9689-76dcc14491ad",
        "colab": {
          "base_uri": "https://localhost:8080/",
          "height": 34
        },
        "trusted": true
      },
      "cell_type": "code",
      "source": "f(5, y=2)",
      "execution_count": 35,
      "outputs": [
        {
          "output_type": "stream",
          "text": "x: 5, y: 2\n",
          "name": "stdout"
        }
      ]
    },
    {
      "metadata": {
        "id": "lBLa1n54WEd2",
        "colab_type": "text"
      },
      "cell_type": "markdown",
      "source": "# Classes"
    },
    {
      "metadata": {
        "id": "mGua8QnArAZh",
        "colab_type": "text"
      },
      "cell_type": "markdown",
      "source": "Classes are object constructors and are a fundamental component of object oriented programming in Python. They are composed of a set of functions that define the class and it's operations.\n\n<div align=\"left\">\n<img src=\"\" width=\"500\">\n</div>"
    },
    {
      "metadata": {
        "id": "CypuBBQyRv8s",
        "colab_type": "text"
      },
      "cell_type": "markdown",
      "source": "### `__init__()` function"
    },
    {
      "metadata": {
        "id": "Hrx2bKTXR4E3",
        "colab_type": "text"
      },
      "cell_type": "markdown",
      "source": "The `init` function is used when an instance of the class is initialized. "
    },
    {
      "metadata": {
        "id": "DXmPwI1frAAd",
        "colab_type": "code",
        "colab": {},
        "trusted": true
      },
      "cell_type": "code",
      "source": "# Creating the class\nclass Pet(object):\n    \"\"\"Class object for a pet.\"\"\"\n  \n    def __init__(self, species, name):\n        \"\"\"Initialize a Pet.\"\"\"\n        self.species = species\n        self.name = name",
      "execution_count": 0,
      "outputs": []
    },
    {
      "metadata": {
        "id": "j5F4XmFQSfVr",
        "colab_type": "code",
        "outputId": "eda212d0-ec20-4b43-dd82-cc6c1c4d4d00",
        "colab": {
          "base_uri": "https://localhost:8080/",
          "height": 51
        },
        "trusted": true
      },
      "cell_type": "code",
      "source": "# Creating an instance of a class\nmy_dog = Pet(species=\"dog\", \n             name=\"Scooby\")\nprint (my_dog)\nprint (my_dog.name)",
      "execution_count": 37,
      "outputs": [
        {
          "output_type": "stream",
          "text": "<__main__.Pet object at 0x7fe487e9c358>\nScooby\n",
          "name": "stdout"
        }
      ]
    },
    {
      "metadata": {
        "id": "6ZVfBXNISUBR",
        "colab_type": "text"
      },
      "cell_type": "markdown",
      "source": "### `__str()__` function"
    },
    {
      "metadata": {
        "id": "8q6oiWHQSqOo",
        "colab_type": "text"
      },
      "cell_type": "markdown",
      "source": "The `print (my_dog)` command printed something not so relevant to us. Let's fix that with the `__str()__` function."
    },
    {
      "metadata": {
        "id": "N1_RDVo9Ruhf",
        "colab_type": "code",
        "colab": {},
        "trusted": true
      },
      "cell_type": "code",
      "source": "# Creating the class\nclass Pet(object):\n    \"\"\"Class object for a pet.\"\"\"\n  \n    def __init__(self, species, name):\n        \"\"\"Initialize a Pet.\"\"\"\n        self.species = species\n        self.name = name\n \n    def __str__(self):\n        \"\"\"Output when printing an instance of a Pet.\"\"\"\n        return f\"{self.species} named {self.name}\"",
      "execution_count": 0,
      "outputs": []
    },
    {
      "metadata": {
        "id": "vQeU2yScSkW7",
        "colab_type": "code",
        "outputId": "53790ec1-a68e-4cc8-a33e-30dd7431a155",
        "colab": {
          "base_uri": "https://localhost:8080/",
          "height": 51
        },
        "trusted": true
      },
      "cell_type": "code",
      "source": "# Creating an instance of a class\nmy_dog = Pet(species=\"dog\", \n             name=\"Scooby\")\nprint (my_dog)\nprint (my_dog.name)",
      "execution_count": 39,
      "outputs": [
        {
          "output_type": "stream",
          "text": "dog named Scooby\nScooby\n",
          "name": "stdout"
        }
      ]
    },
    {
      "metadata": {
        "id": "luB-RBMXK_rL",
        "colab_type": "text"
      },
      "cell_type": "markdown",
      "source": "<div align=\"left\">\n<img src=\"\" width=\"45px\" align=\"left\" hspace=\"10px\">\n</div>\n\n\nClasses can be customized with `magic` functions like, `__str__`, to enable powerful operations. We'll be exploring additional built-in functions in subsequent notebooks (like `__iter__` and `__getitem__`) but if you're curious, here is a [tutorial](https://rszalski.github.io/magicmethods/) on more magic methods."
    },
    {
      "metadata": {
        "id": "LaTaBd8jSYuy",
        "colab_type": "text"
      },
      "cell_type": "markdown",
      "source": "### Object methods"
    },
    {
      "metadata": {
        "id": "Vz95DOFjSY3s",
        "colab_type": "code",
        "colab": {},
        "trusted": true
      },
      "cell_type": "code",
      "source": "# Creating the class\nclass Pet(object):\n    \"\"\"Class object for a pet.\"\"\"\n  \n    def __init__(self, species, name):\n        \"\"\"Initialize a Pet.\"\"\"\n        self.species = species\n        self.name = name\n \n    def __str__(self):\n        \"\"\"Output when printing an instance of a Pet.\"\"\"\n        return f\"{self.species} named {self.name}\"\n        \n    def change_name(self, new_name):\n        \"\"\"Change the name of your Pet.\"\"\"\n        self.name = new_name",
      "execution_count": 0,
      "outputs": []
    },
    {
      "metadata": {
        "id": "ezQq_Fhhrqrv",
        "colab_type": "code",
        "outputId": "34bbf967-27c6-4e95-a3d5-6eac23d60d04",
        "colab": {
          "base_uri": "https://localhost:8080/",
          "height": 51
        },
        "trusted": true
      },
      "cell_type": "code",
      "source": "# Creating an instance of a class\nmy_dog = Pet(species=\"dog\", \n             name=\"Scooby\")\nprint (my_dog)\nprint (my_dog.name)",
      "execution_count": 41,
      "outputs": [
        {
          "output_type": "stream",
          "text": "dog named Scooby\nScooby\n",
          "name": "stdout"
        }
      ]
    },
    {
      "metadata": {
        "id": "qTinlRj1szc5",
        "colab_type": "code",
        "outputId": "1ba88d44-98db-4fd1-dc2a-9b9535509bfe",
        "colab": {
          "base_uri": "https://localhost:8080/",
          "height": 51
        },
        "trusted": true
      },
      "cell_type": "code",
      "source": "# Using a class's function\nmy_dog.change_name(new_name=\"Scrappy\")\nprint (my_dog)\nprint (my_dog.name)",
      "execution_count": 42,
      "outputs": [
        {
          "output_type": "stream",
          "text": "dog named Scrappy\nScrappy\n",
          "name": "stdout"
        }
      ]
    },
    {
      "metadata": {
        "id": "wRcOLRK3TlEO",
        "colab_type": "text"
      },
      "cell_type": "markdown",
      "source": "### Inheritance"
    },
    {
      "metadata": {
        "id": "wR1lyaGwWAcR",
        "colab_type": "text"
      },
      "cell_type": "markdown",
      "source": "Inheritance allows you to inherit all the properties and methods from another class (the parent). Notice how we inherited the initialized variables from the parent `Pet` class like species and name. We also inherited the `change_name` function. But for the `__str__` function, we define our own version to overwrite the `Pet` class' `__str__` function."
    },
    {
      "metadata": {
        "id": "TaDN2qwBTm7_",
        "colab_type": "code",
        "colab": {},
        "trusted": true
      },
      "cell_type": "code",
      "source": "class Dog(Pet):\n    def __init__(self, species, name, breed):\n        super().__init__(\"dog\", name)\n        self.breed = breed\n    \n    def __str__(self):\n        return f\"{self.breed} named {self.name}\"",
      "execution_count": 0,
      "outputs": []
    },
    {
      "metadata": {
        "id": "tKxWHokkT-RI",
        "colab_type": "code",
        "outputId": "8038f478-e8f3-4f44-bf11-29a7fb6e07f3",
        "colab": {
          "base_uri": "https://localhost:8080/",
          "height": 34
        },
        "trusted": true
      },
      "cell_type": "code",
      "source": "scooby = Dog(species=\"dog\", breed=\"Great Dane\", name=\"Scooby\")\nprint (scooby)",
      "execution_count": 44,
      "outputs": [
        {
          "output_type": "stream",
          "text": "Great Dane named Scooby\n",
          "name": "stdout"
        }
      ]
    },
    {
      "metadata": {
        "id": "YLF_tw5mVFO9",
        "colab_type": "code",
        "outputId": "0fb7831f-c5de-48e8-a95c-5469178037b6",
        "colab": {
          "base_uri": "https://localhost:8080/",
          "height": 34
        },
        "trusted": true
      },
      "cell_type": "code",
      "source": "scooby.change_name('Scooby Doo')\nprint (scooby)",
      "execution_count": 45,
      "outputs": [
        {
          "output_type": "stream",
          "text": "Great Dane named Scooby Doo\n",
          "name": "stdout"
        }
      ]
    },
    {
      "metadata": {
        "id": "nv5ja3dEtfJN",
        "colab_type": "text"
      },
      "cell_type": "markdown",
      "source": "# Decorators"
    },
    {
      "metadata": {
        "id": "8aSOSxkSw8lu",
        "colab_type": "text"
      },
      "cell_type": "markdown",
      "source": "Recall that functions allow us to modularize code and reuse them. However, we'll often want to add some functionality before or after the main function executes and we may want to do this for many different functions. Instead of adding more code to the original function, we can use decorators!\n\n*    **decorators**: augment a function with pre/post-processing. Decorators wrap around the main function and allow us to operate on the inputs and or outputs."
    },
    {
      "metadata": {
        "id": "-AdOBNG7FGJB",
        "colab_type": "text"
      },
      "cell_type": "markdown",
      "source": "Suppose we have a function called `operations` which increments the input value x by 1."
    },
    {
      "metadata": {
        "id": "B-JYWOyP1ekZ",
        "colab_type": "code",
        "colab": {},
        "trusted": true
      },
      "cell_type": "code",
      "source": "def operations(x):\n    \"\"\"Basic operations.\"\"\"\n    x += 1\n    return x",
      "execution_count": 0,
      "outputs": []
    },
    {
      "metadata": {
        "id": "XD6oY_8C1en8",
        "colab_type": "code",
        "outputId": "ff8e207d-bcca-44be-b8bd-50663a83d04d",
        "colab": {
          "base_uri": "https://localhost:8080/",
          "height": 34
        },
        "trusted": true
      },
      "cell_type": "code",
      "source": "operations(x=1)",
      "execution_count": 47,
      "outputs": [
        {
          "output_type": "execute_result",
          "data": {
            "text/plain": "2"
          },
          "metadata": {
            "tags": []
          },
          "execution_count": 47
        }
      ]
    },
    {
      "metadata": {
        "id": "LbAeHmc91iq-",
        "colab_type": "text"
      },
      "cell_type": "markdown",
      "source": "Now let's say we want to increment our input x by 1 before and after the `operations` function executes and, to illustrate this example, let's say the increments have to be separate steps. Here's how we would do it by changing the original code:"
    },
    {
      "metadata": {
        "id": "_zZMfUHq7xuv",
        "colab_type": "code",
        "colab": {},
        "trusted": true
      },
      "cell_type": "code",
      "source": "def operations(x):\n    \"\"\"Basic operations.\"\"\"\n    x += 1 \n    x += 1\n    x += 1\n    return x",
      "execution_count": 0,
      "outputs": []
    },
    {
      "metadata": {
        "id": "43BhH51m73Kf",
        "colab_type": "code",
        "outputId": "15f9b3b4-7623-4b56-cf49-e6a279954598",
        "colab": {
          "base_uri": "https://localhost:8080/",
          "height": 34
        },
        "trusted": true
      },
      "cell_type": "code",
      "source": "operations(x=1)",
      "execution_count": 49,
      "outputs": [
        {
          "output_type": "execute_result",
          "data": {
            "text/plain": "4"
          },
          "metadata": {
            "tags": []
          },
          "execution_count": 49
        }
      ]
    },
    {
      "metadata": {
        "id": "dIorZSTM72h-",
        "colab_type": "text"
      },
      "cell_type": "markdown",
      "source": "We were able to achieve what we want but we now increased the size of our `operations` function and if we want to do the same incrementation for any other function, we have to add the same code to all of those as well ... not very efficient. To solve this, let's create a decorator called `add` which increments `x` by 1 before and after the main function `f` executes."
    },
    {
      "metadata": {
        "id": "kvMbqzW5cikA",
        "colab_type": "text"
      },
      "cell_type": "markdown",
      "source": "### Creating a decorator function"
    },
    {
      "metadata": {
        "id": "RFReNETpci1M",
        "colab_type": "text"
      },
      "cell_type": "markdown",
      "source": "The decorator function accepts a function `f` which is the function we wish to wrap around (in our case, it's `operations`). The output of the decorator is its `wrapper` function which receives the arguments and keyword arguments passed to function `f`.\n\nInside the `wrapper` function, we can extract the input parameters `[line 5]` passed to function `f` and make any changes we want `[line 6]`. Then the function `f` is executed `[line 7]` and then we can make changes to the outputs as well `[line 8]`. Finally, the `wrapper` function will return some value(s) `[line 9]` which is what the decorator returns as well since it returns `wrapper`. "
    },
    {
      "metadata": {
        "id": "6Lf7Ixrasiby",
        "colab_type": "code",
        "colab": {},
        "trusted": true
      },
      "cell_type": "code",
      "source": "# Decorator\ndef add(f):\n    def wrapper(*args, **kwargs):\n        \"\"\"Wrapper function for @add.\"\"\"\n        x = kwargs.pop('x') # .get() if not altering x\n        x += 1 # executes before function f\n        x = f(*args, **kwargs, x=x)\n        x += 1 # executes after function f\n        return x\n    return wrapper",
      "execution_count": 0,
      "outputs": []
    },
    {
      "metadata": {
        "id": "uVPWm6yfAmk9",
        "colab_type": "text"
      },
      "cell_type": "markdown",
      "source": "We can use this decorator by simply adding it to the top of our main function preceded by the `@` symbol. "
    },
    {
      "metadata": {
        "id": "CY2Vtxv9sih6",
        "colab_type": "code",
        "colab": {},
        "trusted": true
      },
      "cell_type": "code",
      "source": "@add\ndef operations(x):\n    \"\"\"Basic operations.\"\"\"\n    x += 1\n    return x",
      "execution_count": 0,
      "outputs": []
    },
    {
      "metadata": {
        "id": "-BhmFvkJsifJ",
        "colab_type": "code",
        "outputId": "29c87f17-474a-4868-cd0a-dd4d4342946d",
        "colab": {
          "base_uri": "https://localhost:8080/",
          "height": 34
        },
        "trusted": true
      },
      "cell_type": "code",
      "source": "operations(x=1)",
      "execution_count": 52,
      "outputs": [
        {
          "output_type": "execute_result",
          "data": {
            "text/plain": "4"
          },
          "metadata": {
            "tags": []
          },
          "execution_count": 52
        }
      ]
    },
    {
      "metadata": {
        "id": "rX4Ag4ryArQl",
        "colab_type": "text"
      },
      "cell_type": "markdown",
      "source": "Suppose we wanted to debug and see what function actually executed with `operations`. "
    },
    {
      "metadata": {
        "id": "LsDkTSz6siZG",
        "colab_type": "code",
        "outputId": "6bc583c3-62d0-44b2-c3bc-7a6fb7e14671",
        "colab": {
          "base_uri": "https://localhost:8080/",
          "height": 34
        },
        "trusted": true
      },
      "cell_type": "code",
      "source": "operations.__name__, operations.__doc__",
      "execution_count": 53,
      "outputs": [
        {
          "output_type": "execute_result",
          "data": {
            "text/plain": "('wrapper', 'Wrapper function for @add.')"
          },
          "metadata": {
            "tags": []
          },
          "execution_count": 53
        }
      ]
    },
    {
      "metadata": {
        "id": "G9Rd1PrjA5d9",
        "colab_type": "text"
      },
      "cell_type": "markdown",
      "source": "The function name and docstring are not what we're looking for but it appears this way because the `wrapper` function is what was executed. In order to fix this, Python offers `functools.wraps` which carries the main function's metadata. "
    },
    {
      "metadata": {
        "id": "AtyQ8qb_upnc",
        "colab_type": "code",
        "colab": {},
        "trusted": true
      },
      "cell_type": "code",
      "source": "from functools import wraps",
      "execution_count": 0,
      "outputs": []
    },
    {
      "metadata": {
        "id": "ggp95rl4uuKW",
        "colab_type": "code",
        "colab": {},
        "trusted": true
      },
      "cell_type": "code",
      "source": "# Decorator\ndef add(f):\n    @wraps(f)\n    def wrap(*args, **kwargs):\n        \"\"\"Wrapper function for @add.\"\"\"\n        x = kwargs.pop('x') \n        x += 1\n        x = f(*args, **kwargs, x=x)\n        x += 1\n        return x\n    return wrap",
      "execution_count": 0,
      "outputs": []
    },
    {
      "metadata": {
        "id": "GvWdFV5XuuPn",
        "colab_type": "code",
        "colab": {},
        "trusted": true
      },
      "cell_type": "code",
      "source": "@add\ndef operations(x):\n    \"\"\"Basic operations.\"\"\"\n    x += 1\n    return x",
      "execution_count": 0,
      "outputs": []
    },
    {
      "metadata": {
        "id": "90Za5Wb0uuNl",
        "colab_type": "code",
        "outputId": "1089cbb1-e1b7-4896-83ce-78a7aec14467",
        "colab": {
          "base_uri": "https://localhost:8080/",
          "height": 34
        },
        "trusted": true
      },
      "cell_type": "code",
      "source": "operations.__name__, operations.__doc__",
      "execution_count": 57,
      "outputs": [
        {
          "output_type": "execute_result",
          "data": {
            "text/plain": "('operations', 'Basic operations.')"
          },
          "metadata": {
            "tags": []
          },
          "execution_count": 57
        }
      ]
    },
    {
      "metadata": {
        "id": "aDR_uPXHBiIR",
        "colab_type": "text"
      },
      "cell_type": "markdown",
      "source": "Awesome! We were able to decorate our main function `operation` to achieve the customization we wanted without actually altering the function. We can reuse our decorator for other functions that may need the same customization!\n\nThis was a dummy example to show how decorators work but we'll be using them heavily during our production ML lessons. A simple scenario would be using decorators to create uniform JSON responses from each API endpoint without including the bulky code in each endpoint."
    },
    {
      "metadata": {
        "id": "__HvzfLUB_qK",
        "colab_type": "text"
      },
      "cell_type": "markdown",
      "source": "# Callbacks"
    },
    {
      "metadata": {
        "id": "46RnJdMZCDT3",
        "colab_type": "text"
      },
      "cell_type": "markdown",
      "source": "Decorators allow for customized operations before and after the main function's execution but what about in between? Suppose we want to conditionally/situationally do some operations. Instead of writing a whole bunch of if-statements and make our functions bulky, we can use callbacks!\n\n*   **callbacks**: conditional/situational processing within the function."
    },
    {
      "metadata": {
        "id": "_QEMtyB3FK34",
        "colab_type": "text"
      },
      "cell_type": "markdown",
      "source": "Our callbacks will be classes that have functions with key names that will execute at various periods during the main function's execution. The function names are up to us but we need to invoke the same callback functions within our main function."
    },
    {
      "metadata": {
        "id": "YUfpcY11uplW",
        "colab_type": "code",
        "colab": {},
        "trusted": true
      },
      "cell_type": "code",
      "source": "# Callback\nclass x_tracker(object):\n    def __init__(self, x):\n        self.history = []\n    def at_start(self, x):\n        self.history.append(x)\n    def at_end(self, x):\n        self.history.append(x)",
      "execution_count": 0,
      "outputs": []
    },
    {
      "metadata": {
        "id": "9hphXr9hC0Us",
        "colab_type": "text"
      },
      "cell_type": "markdown",
      "source": "We can pass in as many callbacks as we want and because they have appropriately named functions, they will be invoked at the appropriate times. "
    },
    {
      "metadata": {
        "id": "F3XFote_CzlA",
        "colab_type": "code",
        "colab": {},
        "trusted": true
      },
      "cell_type": "code",
      "source": "def operations(x, callbacks=[]):\n    \"\"\"Basic operations.\"\"\"\n    for callback in callbacks:\n        callback.at_start(x)\n    x += 1\n    for callback in callbacks:\n        callback.at_end(x)\n    return x",
      "execution_count": 0,
      "outputs": []
    },
    {
      "metadata": {
        "id": "d_QV5MZNDILI",
        "colab_type": "code",
        "outputId": "9726744e-80a1-4b82-e059-58597b1a7260",
        "colab": {
          "base_uri": "https://localhost:8080/",
          "height": 34
        },
        "trusted": true
      },
      "cell_type": "code",
      "source": "x = 1\ntracker = x_tracker(x=x)\noperations(x=x, callbacks=[tracker])",
      "execution_count": 60,
      "outputs": [
        {
          "output_type": "execute_result",
          "data": {
            "text/plain": "2"
          },
          "metadata": {
            "tags": []
          },
          "execution_count": 60
        }
      ]
    },
    {
      "metadata": {
        "id": "j0RZ90HoDMbx",
        "colab_type": "code",
        "outputId": "d02a8838-6862-480e-892d-8b1fe8166423",
        "colab": {
          "base_uri": "https://localhost:8080/",
          "height": 34
        },
        "trusted": true
      },
      "cell_type": "code",
      "source": "tracker.history",
      "execution_count": 61,
      "outputs": [
        {
          "output_type": "execute_result",
          "data": {
            "text/plain": "[1, 2]"
          },
          "metadata": {
            "tags": []
          },
          "execution_count": 61
        }
      ]
    },
    {
      "metadata": {
        "id": "ET1f4aleDYWZ",
        "colab_type": "text"
      },
      "cell_type": "markdown",
      "source": "# Putting it all together"
    },
    {
      "metadata": {
        "id": "V52b86DxDbux",
        "colab_type": "text"
      },
      "cell_type": "markdown",
      "source": "decorators + callbacks = powerful customization *before*, *during* and *after* the main function’s execution without increasing its complexity. We will be using this duo to create powerful ML training scripts that are highly customizable in future lessons.\n\n<div align=\"left\">\n<img src=\"\" width=\"350\">\n</div>"
    },
    {
      "metadata": {
        "id": "BEeYY6QHEsE-",
        "colab_type": "code",
        "colab": {},
        "trusted": true
      },
      "cell_type": "code",
      "source": "from functools import wraps",
      "execution_count": 0,
      "outputs": []
    },
    {
      "metadata": {
        "id": "NPcjeVOkEsLC",
        "colab_type": "code",
        "colab": {},
        "trusted": true
      },
      "cell_type": "code",
      "source": "# Decorator\ndef add(f):\n    @wraps(f)\n    def wrap(*args, **kwargs):\n        \"\"\"Wrapper function for @add.\"\"\"\n        x = kwargs.pop('x') # .get() if not altering x\n        x += 1 # executes before function f\n        x = f(*args, **kwargs, x=x)\n        # can do things post function f as well\n        return x\n    return wrap",
      "execution_count": 0,
      "outputs": []
    },
    {
      "metadata": {
        "id": "rBPVInWfEsIk",
        "colab_type": "code",
        "colab": {},
        "trusted": true
      },
      "cell_type": "code",
      "source": "# Callback\nclass x_tracker(object):\n    def __init__(self, x):\n        self.history = [x]\n    def at_start(self, x):\n        self.history.append(x)\n    def at_end(self, x):\n        self.history.append(x)",
      "execution_count": 0,
      "outputs": []
    },
    {
      "metadata": {
        "id": "Px0vMT9gFcyp",
        "colab_type": "code",
        "colab": {},
        "trusted": true
      },
      "cell_type": "code",
      "source": "# Main function\n@add\ndef operations(x, callbacks=[]):\n    \"\"\"Basic operations.\"\"\"\n    for callback in callbacks:\n        callback.at_start(x)\n    x += 1\n    for callback in callbacks:\n        callback.at_end(x)\n    return x",
      "execution_count": 0,
      "outputs": []
    },
    {
      "metadata": {
        "id": "0AhGDNPWFc4i",
        "colab_type": "code",
        "outputId": "144f2d3d-5b5e-454d-e4a0-5f85937c0e2b",
        "colab": {
          "base_uri": "https://localhost:8080/",
          "height": 34
        },
        "trusted": true
      },
      "cell_type": "code",
      "source": "x = 1\ntracker = x_tracker(x=x)\noperations(x=x, callbacks=[tracker])",
      "execution_count": 66,
      "outputs": [
        {
          "output_type": "execute_result",
          "data": {
            "text/plain": "3"
          },
          "metadata": {
            "tags": []
          },
          "execution_count": 66
        }
      ]
    },
    {
      "metadata": {
        "id": "ajyUN2y0Fc2E",
        "colab_type": "code",
        "outputId": "10960ba0-5a00-450b-a27d-854352ccb476",
        "colab": {
          "base_uri": "https://localhost:8080/",
          "height": 34
        },
        "trusted": true
      },
      "cell_type": "code",
      "source": "tracker.history",
      "execution_count": 67,
      "outputs": [
        {
          "output_type": "execute_result",
          "data": {
            "text/plain": "[1, 2, 3]"
          },
          "metadata": {
            "tags": []
          },
          "execution_count": 67
        }
      ]
    },
    {
      "metadata": {
        "id": "kiWtd0aJtNtY",
        "colab_type": "text"
      },
      "cell_type": "markdown",
      "source": "# Additional resources"
    },
    {
      "metadata": {
        "id": "cfLF4ktmtSC3",
        "colab_type": "text"
      },
      "cell_type": "markdown",
      "source": "* **Python 3**: This was a very quick look at Python but it's good enough for practical machine learning and we'll be learning more in future lessons. If you want to learn more, check out this [free Python3 course](https://www.w3schools.com/python/default.asp)."
    },
    {
      "metadata": {
        "id": "wSaDuURFBGKN",
        "colab_type": "text"
      },
      "cell_type": "markdown",
      "source": "---\n<div align=\"center\">\n\nSubscribe to our <a href=\"\">newsletter</a> and follow us on social media to get the latest updates!\n\n<a class=\"ai-header-badge\" target=\"_blank\" href=\"https://github.com/practicalAI/practicalAI\">\n              <img src=\"\"></a>&nbsp;\n            <a class=\"ai-header-badge\" target=\"_blank\" href=\"https://www.linkedin.com/company/practicalai-me\">\n              <img src=\"\"></a>&nbsp;\n            <a class=\"ai-header-badge\" target=\"_blank\" href=\"https://twitter.com/practicalAIme\">\n              <img src=\"\">\n            </a>\n              </div>\n\n</div>"
    }
  ],
  "metadata": {
    "colab": {
      "name": "01_Python",
      "provenance": [],
      "collapsed_sections": [],
      "toc_visible": true
    },
    "kernelspec": {
      "name": "python3",
      "display_name": "Python 3",
      "language": "python"
    },
    "language_info": {
      "mimetype": "text/x-python",
      "nbconvert_exporter": "python",
      "name": "python",
      "pygments_lexer": "ipython3",
      "version": "3.5.4",
      "file_extension": ".py",
      "codemirror_mode": {
        "version": 3,
        "name": "ipython"
      }
    }
  },
  "nbformat": 4,
  "nbformat_minor": 1
}